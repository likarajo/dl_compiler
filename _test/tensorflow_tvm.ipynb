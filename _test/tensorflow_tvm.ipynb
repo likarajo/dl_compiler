{
 "cells": [
  {
   "cell_type": "code",
   "execution_count": 1,
   "metadata": {},
   "outputs": [],
   "source": [
    "%matplotlib inline"
   ]
  },
  {
   "cell_type": "markdown",
   "metadata": {},
   "source": [
    "\n",
    "Compile Tensorflow Models\n",
    "=========================\n",
    "This article is an introductory tutorial to deploy tensorflow models with TVM.\n",
    "\n",
    "For us to begin with, tensorflow python module is required to be installed.\n",
    "\n",
    "Please refer to https://www.tensorflow.org/install\n",
    "\n"
   ]
  },
  {
   "cell_type": "code",
   "execution_count": 3,
   "metadata": {},
   "outputs": [
    {
     "ename": "ModuleNotFoundError",
     "evalue": "No module named 'pytest'",
     "output_type": "error",
     "traceback": [
      "\u001b[0;31m---------------------------------------------------------------------------\u001b[0m",
      "\u001b[0;31mModuleNotFoundError\u001b[0m                       Traceback (most recent call last)",
      "\u001b[0;32m<ipython-input-3-9b1391a60ef1>\u001b[0m in \u001b[0;36m<module>\u001b[0;34m\u001b[0m\n\u001b[1;32m     23\u001b[0m \u001b[0;34m\u001b[0m\u001b[0m\n\u001b[1;32m     24\u001b[0m \u001b[0;31m# Tensorflow utility functions\u001b[0m\u001b[0;34m\u001b[0m\u001b[0;34m\u001b[0m\u001b[0m\n\u001b[0;32m---> 25\u001b[0;31m \u001b[0;32mimport\u001b[0m \u001b[0mtvm\u001b[0m\u001b[0;34m.\u001b[0m\u001b[0mrelay\u001b[0m\u001b[0;34m.\u001b[0m\u001b[0mtesting\u001b[0m\u001b[0;34m.\u001b[0m\u001b[0mtf\u001b[0m \u001b[0;32mas\u001b[0m \u001b[0mtf_testing\u001b[0m\u001b[0;34m\u001b[0m\u001b[0m\n\u001b[0m\u001b[1;32m     26\u001b[0m \u001b[0;34m\u001b[0m\u001b[0m\n\u001b[1;32m     27\u001b[0m \u001b[0;31m# Base location for model related files.\u001b[0m\u001b[0;34m\u001b[0m\u001b[0;34m\u001b[0m\u001b[0m\n",
      "\u001b[0;32m~/tvm/python/tvm/relay/testing/__init__.py\u001b[0m in \u001b[0;36m<module>\u001b[0;34m\u001b[0m\n\u001b[1;32m     26\u001b[0m \u001b[0;32mimport\u001b[0m \u001b[0mtvm\u001b[0m\u001b[0;34m.\u001b[0m\u001b[0mrelay\u001b[0m\u001b[0;34m.\u001b[0m\u001b[0mop\u001b[0m \u001b[0;32mas\u001b[0m \u001b[0mop\u001b[0m\u001b[0;34m\u001b[0m\u001b[0m\n\u001b[1;32m     27\u001b[0m \u001b[0;32mfrom\u001b[0m \u001b[0mtvm\u001b[0m\u001b[0;34m.\u001b[0m\u001b[0mrelay\u001b[0m \u001b[0;32mimport\u001b[0m \u001b[0mPrelude\u001b[0m\u001b[0;34m\u001b[0m\u001b[0m\n\u001b[0;32m---> 28\u001b[0;31m \u001b[0;32mfrom\u001b[0m \u001b[0mtvm\u001b[0m\u001b[0;34m.\u001b[0m\u001b[0mtesting\u001b[0m \u001b[0;32mimport\u001b[0m \u001b[0menabled_targets\u001b[0m\u001b[0;34m\u001b[0m\u001b[0m\n\u001b[0m\u001b[1;32m     29\u001b[0m \u001b[0;34m\u001b[0m\u001b[0m\n\u001b[1;32m     30\u001b[0m \u001b[0;32mfrom\u001b[0m \u001b[0;34m.\u001b[0m \u001b[0;32mimport\u001b[0m \u001b[0mmlp\u001b[0m\u001b[0;34m\u001b[0m\u001b[0m\n",
      "\u001b[0;32m~/tvm/python/tvm/testing.py\u001b[0m in \u001b[0;36m<module>\u001b[0;34m\u001b[0m\n\u001b[1;32m     57\u001b[0m \u001b[0;32mimport\u001b[0m \u001b[0mlogging\u001b[0m\u001b[0;34m\u001b[0m\u001b[0m\n\u001b[1;32m     58\u001b[0m \u001b[0;32mimport\u001b[0m \u001b[0mos\u001b[0m\u001b[0;34m\u001b[0m\u001b[0m\n\u001b[0;32m---> 59\u001b[0;31m \u001b[0;32mimport\u001b[0m \u001b[0mpytest\u001b[0m\u001b[0;34m\u001b[0m\u001b[0m\n\u001b[0m\u001b[1;32m     60\u001b[0m \u001b[0;32mimport\u001b[0m \u001b[0mnumpy\u001b[0m \u001b[0;32mas\u001b[0m \u001b[0mnp\u001b[0m\u001b[0;34m\u001b[0m\u001b[0m\n\u001b[1;32m     61\u001b[0m \u001b[0;32mimport\u001b[0m \u001b[0mtvm\u001b[0m\u001b[0;34m\u001b[0m\u001b[0m\n",
      "\u001b[0;31mModuleNotFoundError\u001b[0m: No module named 'pytest'"
     ]
    }
   ],
   "source": [
    "import sys\n",
    "sys.path.append('/Users/likarajo/tvm/python')\n",
    "sys.path.append('/Users/likarajo/tvm/topi/python')\n",
    "sys.path.append('/Users/likarajo/tvm/nnvm/python')\n",
    "sys.path.append('/Users/likarajo/tvm/vta/python')\n",
    "\n",
    "# tvm, relay\n",
    "import tvm\n",
    "from tvm import te\n",
    "from tvm import relay\n",
    "\n",
    "# os and numpy\n",
    "import numpy as np\n",
    "import os.path\n",
    "\n",
    "# Tensorflow imports\n",
    "import tensorflow as tf\n",
    "\n",
    "try:\n",
    "    tf_compat_v1 = tf.compat.v1\n",
    "except ImportError:\n",
    "    tf_compat_v1 = tf\n",
    "\n",
    "# Tensorflow utility functions\n",
    "import tvm.relay.testing.tf as tf_testing\n",
    "\n",
    "# Base location for model related files.\n",
    "repo_base = \"https://github.com/dmlc/web-data/raw/main/tensorflow/models/InceptionV1/\"\n",
    "\n",
    "# Test image\n",
    "img_name = \"elephant-299.jpg\"\n",
    "image_url = os.path.join(repo_base, img_name)"
   ]
  },
  {
   "cell_type": "markdown",
   "metadata": {},
   "source": [
    "Tutorials\n",
    "---------\n",
    "Please refer docs/frontend/tensorflow.md for more details for various models\n",
    "from tensorflow.\n",
    "\n"
   ]
  },
  {
   "cell_type": "code",
   "execution_count": null,
   "metadata": {},
   "outputs": [],
   "source": [
    "model_name = \"classify_image_graph_def-with_shapes.pb\"\n",
    "model_url = os.path.join(repo_base, model_name)\n",
    "\n",
    "# Image label map\n",
    "map_proto = \"imagenet_2012_challenge_label_map_proto.pbtxt\"\n",
    "map_proto_url = os.path.join(repo_base, map_proto)\n",
    "\n",
    "# Human readable text for labels\n",
    "label_map = \"imagenet_synset_to_human_label_map.txt\"\n",
    "label_map_url = os.path.join(repo_base, label_map)\n",
    "\n",
    "# Target settings\n",
    "# Use these commented settings to build for cuda.\n",
    "# target = 'cuda'\n",
    "# target_host = 'llvm'\n",
    "# layout = \"NCHW\"\n",
    "# ctx = tvm.gpu(0)\n",
    "target = \"llvm\"\n",
    "target_host = \"llvm\"\n",
    "layout = None\n",
    "ctx = tvm.cpu(0)"
   ]
  },
  {
   "cell_type": "markdown",
   "metadata": {},
   "source": [
    "Download required files\n",
    "-----------------------\n",
    "Download files listed above.\n",
    "\n"
   ]
  },
  {
   "cell_type": "code",
   "execution_count": null,
   "metadata": {},
   "outputs": [],
   "source": [
    "from tvm.contrib.download import download_testdata\n",
    "\n",
    "img_path = download_testdata(image_url, img_name, module=\"data\")\n",
    "model_path = download_testdata(model_url, model_name, module=[\"tf\", \"InceptionV1\"])\n",
    "map_proto_path = download_testdata(map_proto_url, map_proto, module=\"data\")\n",
    "label_path = download_testdata(label_map_url, label_map, module=\"data\")"
   ]
  },
  {
   "cell_type": "markdown",
   "metadata": {},
   "source": [
    "Import model\n",
    "------------\n",
    "Creates tensorflow graph definition from protobuf file.\n",
    "\n"
   ]
  },
  {
   "cell_type": "code",
   "execution_count": null,
   "metadata": {},
   "outputs": [],
   "source": [
    "with tf_compat_v1.gfile.GFile(model_path, \"rb\") as f:\n",
    "    graph_def = tf_compat_v1.GraphDef()\n",
    "    graph_def.ParseFromString(f.read())\n",
    "    graph = tf.import_graph_def(graph_def, name=\"\")\n",
    "    # Call the utility to import the graph definition into default graph.\n",
    "    graph_def = tf_testing.ProcessGraphDefParam(graph_def)\n",
    "    # Add shapes to the graph.\n",
    "    with tf_compat_v1.Session() as sess:\n",
    "        graph_def = tf_testing.AddShapesToGraphDef(sess, \"softmax\")"
   ]
  },
  {
   "cell_type": "markdown",
   "metadata": {},
   "source": [
    "Decode image\n",
    "------------\n",
    "<div class=\"alert alert-info\"><h4>Note</h4><p>tensorflow frontend import doesn't support preprocessing ops like JpegDecode.\n",
    "  JpegDecode is bypassed (just return source node).\n",
    "  Hence we supply decoded frame to TVM instead.</p></div>\n",
    "\n",
    "\n"
   ]
  },
  {
   "cell_type": "code",
   "execution_count": null,
   "metadata": {},
   "outputs": [],
   "source": [
    "from PIL import Image\n",
    "\n",
    "image = Image.open(img_path).resize((299, 299))\n",
    "\n",
    "x = np.array(image)"
   ]
  },
  {
   "cell_type": "markdown",
   "metadata": {},
   "source": [
    "Import the graph to Relay\n",
    "-------------------------\n",
    "Import tensorflow graph definition to relay frontend.\n",
    "\n",
    "Results:\n",
    "  sym: relay expr for given tensorflow protobuf.\n",
    "  params: params converted from tensorflow params (tensor protobuf).\n",
    "\n"
   ]
  },
  {
   "cell_type": "code",
   "execution_count": null,
   "metadata": {},
   "outputs": [],
   "source": [
    "shape_dict = {\"DecodeJpeg/contents\": x.shape}\n",
    "dtype_dict = {\"DecodeJpeg/contents\": \"uint8\"}\n",
    "mod, params = relay.frontend.from_tensorflow(graph_def, layout=layout, shape=shape_dict)\n",
    "\n",
    "print(\"Tensorflow protobuf imported to relay frontend.\")"
   ]
  },
  {
   "cell_type": "markdown",
   "metadata": {},
   "source": [
    "Relay Build\n",
    "-----------\n",
    "Compile the graph to llvm target with given input specification.\n",
    "\n",
    "Results:\n",
    "  graph: Final graph after compilation.\n",
    "  params: final params after compilation.\n",
    "  lib: target library which can be deployed on target with TVM runtime.\n",
    "\n"
   ]
  },
  {
   "cell_type": "code",
   "execution_count": null,
   "metadata": {},
   "outputs": [],
   "source": [
    "with tvm.transform.PassContext(opt_level=3):\n",
    "    lib = relay.build(mod, target=target, target_host=target_host, params=params)"
   ]
  },
  {
   "cell_type": "markdown",
   "metadata": {},
   "source": [
    "Execute the portable graph on TVM\n",
    "---------------------------------\n",
    "Now we can try deploying the compiled model on target.\n",
    "\n"
   ]
  },
  {
   "cell_type": "code",
   "execution_count": null,
   "metadata": {},
   "outputs": [],
   "source": [
    "from tvm.contrib import graph_runtime\n",
    "\n",
    "dtype = \"uint8\"\n",
    "m = graph_runtime.GraphModule(lib[\"default\"](ctx))\n",
    "# set inputs\n",
    "m.set_input(\"DecodeJpeg/contents\", tvm.nd.array(x.astype(dtype)))\n",
    "# execute\n",
    "m.run()\n",
    "# get outputs\n",
    "tvm_output = m.get_output(0, tvm.nd.empty(((1, 1008)), \"float32\"))"
   ]
  },
  {
   "cell_type": "markdown",
   "metadata": {},
   "source": [
    "Process the output\n",
    "------------------\n",
    "Process the model output to human readable text for InceptionV1.\n",
    "\n"
   ]
  },
  {
   "cell_type": "code",
   "execution_count": null,
   "metadata": {},
   "outputs": [],
   "source": [
    "predictions = tvm_output.asnumpy()\n",
    "predictions = np.squeeze(predictions)\n",
    "\n",
    "# Creates node ID --> English string lookup.\n",
    "node_lookup = tf_testing.NodeLookup(label_lookup_path=map_proto_path, uid_lookup_path=label_path)\n",
    "\n",
    "# Print top 5 predictions from TVM output.\n",
    "top_k = predictions.argsort()[-5:][::-1]\n",
    "for node_id in top_k:\n",
    "    human_string = node_lookup.id_to_string(node_id)\n",
    "    score = predictions[node_id]\n",
    "    print(\"%s (score = %.5f)\" % (human_string, score))"
   ]
  },
  {
   "cell_type": "markdown",
   "metadata": {},
   "source": [
    "Inference on tensorflow\n",
    "-----------------------\n",
    "Run the corresponding model on tensorflow\n",
    "\n"
   ]
  },
  {
   "cell_type": "code",
   "execution_count": null,
   "metadata": {},
   "outputs": [],
   "source": [
    "def create_graph():\n",
    "    \"\"\"Creates a graph from saved GraphDef file and returns a saver.\"\"\"\n",
    "    # Creates graph from saved graph_def.pb.\n",
    "    with tf_compat_v1.gfile.GFile(model_path, \"rb\") as f:\n",
    "        graph_def = tf_compat_v1.GraphDef()\n",
    "        graph_def.ParseFromString(f.read())\n",
    "        graph = tf.import_graph_def(graph_def, name=\"\")\n",
    "        # Call the utility to import the graph definition into default graph.\n",
    "        graph_def = tf_testing.ProcessGraphDefParam(graph_def)\n",
    "\n",
    "\n",
    "def run_inference_on_image(image):\n",
    "    \"\"\"Runs inference on an image.\n",
    "\n",
    "    Parameters\n",
    "    ----------\n",
    "    image: String\n",
    "        Image file name.\n",
    "\n",
    "    Returns\n",
    "    -------\n",
    "        Nothing\n",
    "    \"\"\"\n",
    "    if not tf_compat_v1.gfile.Exists(image):\n",
    "        tf.logging.fatal(\"File does not exist %s\", image)\n",
    "    image_data = tf_compat_v1.gfile.GFile(image, \"rb\").read()\n",
    "\n",
    "    # Creates graph from saved GraphDef.\n",
    "    create_graph()\n",
    "\n",
    "    with tf_compat_v1.Session() as sess:\n",
    "        softmax_tensor = sess.graph.get_tensor_by_name(\"softmax:0\")\n",
    "        predictions = sess.run(softmax_tensor, {\"DecodeJpeg/contents:0\": image_data})\n",
    "\n",
    "        predictions = np.squeeze(predictions)\n",
    "\n",
    "        # Creates node ID --> English string lookup.\n",
    "        node_lookup = tf_testing.NodeLookup(\n",
    "            label_lookup_path=map_proto_path, uid_lookup_path=label_path\n",
    "        )\n",
    "\n",
    "        # Print top 5 predictions from tensorflow.\n",
    "        top_k = predictions.argsort()[-5:][::-1]\n",
    "        print(\"===== TENSORFLOW RESULTS =======\")\n",
    "        for node_id in top_k:\n",
    "            human_string = node_lookup.id_to_string(node_id)\n",
    "            score = predictions[node_id]\n",
    "            print(\"%s (score = %.5f)\" % (human_string, score))\n",
    "\n",
    "\n",
    "run_inference_on_image(img_path)"
   ]
  }
 ],
 "metadata": {
  "kernelspec": {
   "display_name": "Python 3",
   "language": "python",
   "name": "python3"
  },
  "language_info": {
   "codemirror_mode": {
    "name": "ipython",
    "version": 3
   },
   "file_extension": ".py",
   "mimetype": "text/x-python",
   "name": "python",
   "nbconvert_exporter": "python",
   "pygments_lexer": "ipython3",
   "version": "3.7.0"
  }
 },
 "nbformat": 4,
 "nbformat_minor": 1
}
